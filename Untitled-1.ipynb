{
 "cells": [
  {
   "cell_type": "markdown",
   "metadata": {},
   "source": [
    "#### Week 1 and 2 Assignment\n",
    "##### Michael Perrine\n",
    "##### DSC 540\n",
    "##### Professor Williams"
   ]
  }
 ],
 "metadata": {
  "language_info": {
   "name": "python"
  }
 },
 "nbformat": 4,
 "nbformat_minor": 2
}
