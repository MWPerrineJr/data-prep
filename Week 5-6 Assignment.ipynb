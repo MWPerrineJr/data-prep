{
 "cells": [
  {
   "cell_type": "markdown",
   "id": "35222fd8",
   "metadata": {},
   "source": [
    "#### Week 5 and 6 Assignment\n",
    "#### Michael Perrine\n",
    "#### DSC 540 Data Wrangling\n",
    "#### Professor Williams"
   ]
  },
  {
   "cell_type": "markdown",
   "id": "7f534694",
   "metadata": {},
   "source": [
    "# Activity 5.01 Web Scraping Wikipedia- List of Countries by GDP(Nominal)"
   ]
  },
  {
   "cell_type": "markdown",
   "id": "98de2263",
   "metadata": {},
   "source": [
    "In this first activity I will scrape data from a Wikipedia page. My goal is to extract a table listing the countries and their gdp. For this analysis I will import beautiful soup, requests, and pandas. The requests library will create the request for the html from Wikipedia. The beautiful soup library will allow me to extract the data from the website and the pandas library is needed to manipulate the data frame."
   ]
  },
  {
   "cell_type": "code",
   "execution_count": 1,
   "id": "02f6d3e5",
   "metadata": {},
   "outputs": [],
   "source": [
    "# load libraries\n",
    "from bs4 import BeautifulSoup\n",
    "import pandas as pd\n",
    "import requests\n",
    "import sqlite3"
   ]
  },
  {
   "cell_type": "code",
   "execution_count": 2,
   "id": "62c46848",
   "metadata": {},
   "outputs": [],
   "source": [
    "# Get URL\n",
    "url = \"https://en.wikipedia.org/wiki/List_of_countries_by_GDP_(nominal)\"\n",
    "\n",
    "page = requests.get(url)\n",
    "\n",
    "soup = BeautifulSoup(page.text, \"html.parser\")"
   ]
  },
  {
   "cell_type": "code",
   "execution_count": null,
   "id": "f4a84a3a",
   "metadata": {},
   "outputs": [],
   "source": [
    "# This code prints the html and the prettify code creates indents \n",
    "# the html according to relationship with the parent\n",
    "print(soup.prettify())"
   ]
  },
  {
   "cell_type": "code",
   "execution_count": 4,
   "id": "0c243854",
   "metadata": {},
   "outputs": [
    {
     "name": "stdout",
     "output_type": "stream",
     "text": [
      "Total number of tables: 3\n"
     ]
    }
   ],
   "source": [
    "# This code prints the total number of tables in the html \n",
    "print(\"Total number of tables: {}\".format(len(soup)))"
   ]
  },
  {
   "cell_type": "code",
   "execution_count": null,
   "id": "8e225d16",
   "metadata": {},
   "outputs": [],
   "source": [
    "# This code prints the table that I want from the extracted html\n",
    "table = soup.find_all(\"table\")[2]\n",
    "print(table)"
   ]
  },
  {
   "cell_type": "code",
   "execution_count": null,
   "id": "4eb5d63e",
   "metadata": {},
   "outputs": [],
   "source": [
    "#table = table.find_all(\"table\", class_ = \"wikitable sortable sticky-header-multi static\" )\n",
    "table = soup.find(\"table\", class_ = \"wikitable sortable sticky-header-multi static-row-numbers\")\n",
    "table"
   ]
  },
  {
   "cell_type": "code",
   "execution_count": null,
   "id": "b9d24ca2",
   "metadata": {},
   "outputs": [],
   "source": [
    "# This code extracts the headers and places them in an object called country_titles\n",
    "country_titles = table.find_all(\"th\")"
   ]
  },
  {
   "cell_type": "code",
   "execution_count": null,
   "id": "1990779d",
   "metadata": {},
   "outputs": [],
   "source": [
    "# This code prints the country_titles headers\n",
    "country_titles"
   ]
  },
  {
   "cell_type": "code",
   "execution_count": null,
   "id": "cbae11b0",
   "metadata": {},
   "outputs": [
    {
     "data": {
      "text/plain": [
       "['Country/Territory',\n",
       " 'IMF[1][12]',\n",
       " 'World Bank[13]',\n",
       " 'United Nations[14]',\n",
       " 'Forecast',\n",
       " 'Year',\n",
       " 'Estimate',\n",
       " 'Year',\n",
       " 'Estimate',\n",
       " 'Year']"
      ]
     },
     "execution_count": 9,
     "metadata": {},
     "output_type": "execute_result"
    }
   ],
   "source": [
    "# This code cleans the headers\n",
    "country_table_titles = [title.text.strip() for title in country_titles]\n",
    "\n",
    "country_table_titles"
   ]
  },
  {
   "cell_type": "code",
   "execution_count": null,
   "id": "eec43847",
   "metadata": {},
   "outputs": [
    {
     "data": {
      "text/html": [
       "<div>\n",
       "<style scoped>\n",
       "    .dataframe tbody tr th:only-of-type {\n",
       "        vertical-align: middle;\n",
       "    }\n",
       "\n",
       "    .dataframe tbody tr th {\n",
       "        vertical-align: top;\n",
       "    }\n",
       "\n",
       "    .dataframe thead th {\n",
       "        text-align: right;\n",
       "    }\n",
       "</style>\n",
       "<table border=\"1\" class=\"dataframe\">\n",
       "  <thead>\n",
       "    <tr style=\"text-align: right;\">\n",
       "      <th></th>\n",
       "      <th>Country/Territory</th>\n",
       "      <th>Forecast</th>\n",
       "      <th>Year</th>\n",
       "      <th>Estimate</th>\n",
       "      <th>Year</th>\n",
       "      <th>Estimate</th>\n",
       "      <th>Year</th>\n",
       "    </tr>\n",
       "  </thead>\n",
       "  <tbody>\n",
       "  </tbody>\n",
       "</table>\n",
       "</div>"
      ],
      "text/plain": [
       "Empty DataFrame\n",
       "Columns: [Country/Territory, Forecast, Year, Estimate, Year, Estimate, Year]\n",
       "Index: []"
      ]
     },
     "execution_count": 10,
     "metadata": {},
     "output_type": "execute_result"
    }
   ],
   "source": [
    "# This code creates the dataframe and and I need to drop the column IMF, World Bank, and United\n",
    "# Nations. These column names appear above the table as an additional header\n",
    "\n",
    "country_gdp = pd.DataFrame(columns= country_table_titles)\n",
    "country_gdp = country_gdp.drop([\"IMF[1][12]\", \"World Bank[13]\", \"United Nations[14]\"], axis = 1)\n",
    "country_gdp"
   ]
  },
  {
   "cell_type": "code",
   "execution_count": null,
   "id": "5d370f33",
   "metadata": {},
   "outputs": [],
   "source": [
    "# This column takes all the row data and saves it in an object named column_data\n",
    "column_data = table.find_all(\"tr\")\n",
    "column_data"
   ]
  },
  {
   "cell_type": "code",
   "execution_count": null,
   "id": "ddea0baa",
   "metadata": {},
   "outputs": [],
   "source": [
    "# This code creates a for loop to iterate through the lists and save the rows.\n",
    "for row in column_data[2:]:\n",
    "    row_data = row.find_all(\"td\")\n",
    "    individual_row_data = [data.text.strip() for data in row_data]\n",
    "    \n",
    "    print(individual_row_data)\n",
    "    #length = len(country_gdp)\n",
    "    #country_gdp.loc[length] = individual_row_data"
   ]
  },
  {
   "cell_type": "code",
   "execution_count": null,
   "id": "7666341f",
   "metadata": {},
   "outputs": [],
   "source": [
    "# This code saves the data into the dataframe\n",
    "length = len(country_gdp)\n",
    "    \n",
    "country_gdp.loc[length] = individual_row_data"
   ]
  },
  {
   "cell_type": "code",
   "execution_count": null,
   "id": "b3f264c9",
   "metadata": {},
   "outputs": [
    {
     "data": {
      "text/html": [
       "<div>\n",
       "<style scoped>\n",
       "    .dataframe tbody tr th:only-of-type {\n",
       "        vertical-align: middle;\n",
       "    }\n",
       "\n",
       "    .dataframe tbody tr th {\n",
       "        vertical-align: top;\n",
       "    }\n",
       "\n",
       "    .dataframe thead th {\n",
       "        text-align: right;\n",
       "    }\n",
       "</style>\n",
       "<table border=\"1\" class=\"dataframe\">\n",
       "  <thead>\n",
       "    <tr style=\"text-align: right;\">\n",
       "      <th></th>\n",
       "      <th>Country/Territory</th>\n",
       "      <th>Forecast</th>\n",
       "      <th>Year</th>\n",
       "      <th>Estimate</th>\n",
       "      <th>Year</th>\n",
       "      <th>Estimate</th>\n",
       "      <th>Year</th>\n",
       "    </tr>\n",
       "  </thead>\n",
       "  <tbody>\n",
       "    <tr>\n",
       "      <th>0</th>\n",
       "      <td>Tuvalu</td>\n",
       "      <td>66</td>\n",
       "      <td>2024</td>\n",
       "      <td>62</td>\n",
       "      <td>2023</td>\n",
       "      <td>59</td>\n",
       "      <td>2022</td>\n",
       "    </tr>\n",
       "    <tr>\n",
       "      <th>1</th>\n",
       "      <td>World</td>\n",
       "      <td>115,494,312</td>\n",
       "      <td>2025</td>\n",
       "      <td>105,435,540</td>\n",
       "      <td>2023</td>\n",
       "      <td>100,834,796</td>\n",
       "      <td>2022</td>\n",
       "    </tr>\n",
       "    <tr>\n",
       "      <th>2</th>\n",
       "      <td>United States</td>\n",
       "      <td>30,338,000</td>\n",
       "      <td>2025</td>\n",
       "      <td>27,360,935</td>\n",
       "      <td>2023</td>\n",
       "      <td>25,744,100</td>\n",
       "      <td>2022</td>\n",
       "    </tr>\n",
       "    <tr>\n",
       "      <th>3</th>\n",
       "      <td>China</td>\n",
       "      <td>19,535,000</td>\n",
       "      <td>[n 1]2025</td>\n",
       "      <td>17,794,782</td>\n",
       "      <td>[n 3]2023</td>\n",
       "      <td>17,963,170</td>\n",
       "      <td>[n 1]2022</td>\n",
       "    </tr>\n",
       "    <tr>\n",
       "      <th>4</th>\n",
       "      <td>Germany</td>\n",
       "      <td>4,922,000</td>\n",
       "      <td>2025</td>\n",
       "      <td>4,456,081</td>\n",
       "      <td>2023</td>\n",
       "      <td>4,076,923</td>\n",
       "      <td>2022</td>\n",
       "    </tr>\n",
       "  </tbody>\n",
       "</table>\n",
       "</div>"
      ],
      "text/plain": [
       "  Country/Territory     Forecast       Year     Estimate       Year  \\\n",
       "0            Tuvalu           66       2024           62       2023   \n",
       "1             World  115,494,312       2025  105,435,540       2023   \n",
       "2     United States   30,338,000       2025   27,360,935       2023   \n",
       "3             China   19,535,000  [n 1]2025   17,794,782  [n 3]2023   \n",
       "4           Germany    4,922,000       2025    4,456,081       2023   \n",
       "\n",
       "      Estimate       Year  \n",
       "0           59       2022  \n",
       "1  100,834,796       2022  \n",
       "2   25,744,100       2022  \n",
       "3   17,963,170  [n 1]2022  \n",
       "4    4,076,923       2022  "
      ]
     },
     "execution_count": 42,
     "metadata": {},
     "output_type": "execute_result"
    }
   ],
   "source": [
    "# This code displays the first five rows of the new data frame\n",
    "country_gdp.head()"
   ]
  },
  {
   "cell_type": "code",
   "execution_count": null,
   "id": "7755237d",
   "metadata": {},
   "outputs": [
    {
     "data": {
      "text/html": [
       "<div>\n",
       "<style scoped>\n",
       "    .dataframe tbody tr th:only-of-type {\n",
       "        vertical-align: middle;\n",
       "    }\n",
       "\n",
       "    .dataframe tbody tr th {\n",
       "        vertical-align: top;\n",
       "    }\n",
       "\n",
       "    .dataframe thead th {\n",
       "        text-align: right;\n",
       "    }\n",
       "</style>\n",
       "<table border=\"1\" class=\"dataframe\">\n",
       "  <thead>\n",
       "    <tr style=\"text-align: right;\">\n",
       "      <th></th>\n",
       "      <th>Country/Territory</th>\n",
       "      <th>Forecast</th>\n",
       "      <th>Year</th>\n",
       "      <th>Estimate</th>\n",
       "      <th>Year</th>\n",
       "      <th>Estimate</th>\n",
       "      <th>Year</th>\n",
       "    </tr>\n",
       "  </thead>\n",
       "  <tbody>\n",
       "    <tr>\n",
       "      <th>41</th>\n",
       "      <td>Netherlands</td>\n",
       "      <td>1,273,000</td>\n",
       "      <td>2025</td>\n",
       "      <td>1,118,125</td>\n",
       "      <td>2023</td>\n",
       "      <td>1,008,027</td>\n",
       "      <td>2022</td>\n",
       "    </tr>\n",
       "    <tr>\n",
       "      <th>42</th>\n",
       "      <td>Saudi Arabia</td>\n",
       "      <td>1,138,000</td>\n",
       "      <td>2025</td>\n",
       "      <td>1,067,583</td>\n",
       "      <td>2023</td>\n",
       "      <td>1,108,148</td>\n",
       "      <td>2022</td>\n",
       "    </tr>\n",
       "    <tr>\n",
       "      <th>43</th>\n",
       "      <td>Switzerland</td>\n",
       "      <td>1,000,000</td>\n",
       "      <td>2025</td>\n",
       "      <td>884,940</td>\n",
       "      <td>2023</td>\n",
       "      <td>818,426</td>\n",
       "      <td>2022</td>\n",
       "    </tr>\n",
       "    <tr>\n",
       "      <th>44</th>\n",
       "      <td>Poland</td>\n",
       "      <td>915,451</td>\n",
       "      <td>2025</td>\n",
       "      <td>811,229</td>\n",
       "      <td>2023</td>\n",
       "      <td>688,125</td>\n",
       "      <td>2022</td>\n",
       "    </tr>\n",
       "    <tr>\n",
       "      <th>45</th>\n",
       "      <td>Tuvalu</td>\n",
       "      <td>66</td>\n",
       "      <td>2024</td>\n",
       "      <td>62</td>\n",
       "      <td>2023</td>\n",
       "      <td>59</td>\n",
       "      <td>2022</td>\n",
       "    </tr>\n",
       "  </tbody>\n",
       "</table>\n",
       "</div>"
      ],
      "text/plain": [
       "   Country/Territory   Forecast  Year   Estimate  Year   Estimate  Year\n",
       "41       Netherlands  1,273,000  2025  1,118,125  2023  1,008,027  2022\n",
       "42      Saudi Arabia  1,138,000  2025  1,067,583  2023  1,108,148  2022\n",
       "43       Switzerland  1,000,000  2025    884,940  2023    818,426  2022\n",
       "44            Poland    915,451  2025    811,229  2023    688,125  2022\n",
       "45            Tuvalu         66  2024         62  2023         59  2022"
      ]
     },
     "execution_count": 43,
     "metadata": {},
     "output_type": "execute_result"
    }
   ],
   "source": [
    "# This code displays the last five rows of the data frame\n",
    "country_gdp.tail()"
   ]
  },
  {
   "cell_type": "markdown",
   "id": "3cad4fc8",
   "metadata": {},
   "source": [
    "# Activity 6.01 Handling Outlier and Missing Data"
   ]
  },
  {
   "cell_type": "code",
   "execution_count": 17,
   "id": "40014c50",
   "metadata": {},
   "outputs": [],
   "source": [
    "# Load libraries needed for analysis\n",
    "import pandas as pd\n",
    "import numpy as np\n",
    "import matplotlib.pyplot as plt\n",
    "%matplotlib inline"
   ]
  },
  {
   "cell_type": "code",
   "execution_count": 18,
   "id": "8dc7d3be",
   "metadata": {},
   "outputs": [],
   "source": [
    "# Load data\n",
    "data = pd.read_csv(r\"visit_data.csv\")"
   ]
  },
  {
   "cell_type": "code",
   "execution_count": 19,
   "id": "6f11b6f7",
   "metadata": {},
   "outputs": [
    {
     "data": {
      "text/html": [
       "<div>\n",
       "<style scoped>\n",
       "    .dataframe tbody tr th:only-of-type {\n",
       "        vertical-align: middle;\n",
       "    }\n",
       "\n",
       "    .dataframe tbody tr th {\n",
       "        vertical-align: top;\n",
       "    }\n",
       "\n",
       "    .dataframe thead th {\n",
       "        text-align: right;\n",
       "    }\n",
       "</style>\n",
       "<table border=\"1\" class=\"dataframe\">\n",
       "  <thead>\n",
       "    <tr style=\"text-align: right;\">\n",
       "      <th></th>\n",
       "      <th>id</th>\n",
       "      <th>first_name</th>\n",
       "      <th>last_name</th>\n",
       "      <th>email</th>\n",
       "      <th>gender</th>\n",
       "      <th>ip_address</th>\n",
       "      <th>visit</th>\n",
       "    </tr>\n",
       "  </thead>\n",
       "  <tbody>\n",
       "    <tr>\n",
       "      <th>0</th>\n",
       "      <td>1</td>\n",
       "      <td>Sonny</td>\n",
       "      <td>Dahl</td>\n",
       "      <td>sdahl0@mysql.com</td>\n",
       "      <td>Male</td>\n",
       "      <td>135.36.96.183</td>\n",
       "      <td>1225.0</td>\n",
       "    </tr>\n",
       "    <tr>\n",
       "      <th>1</th>\n",
       "      <td>2</td>\n",
       "      <td>NaN</td>\n",
       "      <td>NaN</td>\n",
       "      <td>dhoovart1@hud.gov</td>\n",
       "      <td>NaN</td>\n",
       "      <td>237.165.194.143</td>\n",
       "      <td>919.0</td>\n",
       "    </tr>\n",
       "    <tr>\n",
       "      <th>2</th>\n",
       "      <td>3</td>\n",
       "      <td>Gar</td>\n",
       "      <td>Armal</td>\n",
       "      <td>garmal2@technorati.com</td>\n",
       "      <td>NaN</td>\n",
       "      <td>166.43.137.224</td>\n",
       "      <td>271.0</td>\n",
       "    </tr>\n",
       "    <tr>\n",
       "      <th>3</th>\n",
       "      <td>4</td>\n",
       "      <td>Chiarra</td>\n",
       "      <td>Nulty</td>\n",
       "      <td>cnulty3@newyorker.com</td>\n",
       "      <td>NaN</td>\n",
       "      <td>139.98.137.108</td>\n",
       "      <td>1002.0</td>\n",
       "    </tr>\n",
       "    <tr>\n",
       "      <th>4</th>\n",
       "      <td>5</td>\n",
       "      <td>NaN</td>\n",
       "      <td>NaN</td>\n",
       "      <td>sleaver4@elegantthemes.com</td>\n",
       "      <td>NaN</td>\n",
       "      <td>46.117.117.27</td>\n",
       "      <td>2434.0</td>\n",
       "    </tr>\n",
       "  </tbody>\n",
       "</table>\n",
       "</div>"
      ],
      "text/plain": [
       "   id first_name last_name                       email gender  \\\n",
       "0   1      Sonny      Dahl            sdahl0@mysql.com   Male   \n",
       "1   2        NaN       NaN           dhoovart1@hud.gov    NaN   \n",
       "2   3        Gar     Armal      garmal2@technorati.com    NaN   \n",
       "3   4    Chiarra     Nulty       cnulty3@newyorker.com    NaN   \n",
       "4   5        NaN       NaN  sleaver4@elegantthemes.com    NaN   \n",
       "\n",
       "        ip_address   visit  \n",
       "0    135.36.96.183  1225.0  \n",
       "1  237.165.194.143   919.0  \n",
       "2   166.43.137.224   271.0  \n",
       "3   139.98.137.108  1002.0  \n",
       "4    46.117.117.27  2434.0  "
      ]
     },
     "execution_count": 19,
     "metadata": {},
     "output_type": "execute_result"
    }
   ],
   "source": [
    "# View first 5 rows and ensure data loaded properly\n",
    "data.head()"
   ]
  },
  {
   "cell_type": "code",
   "execution_count": 20,
   "id": "f234217c",
   "metadata": {},
   "outputs": [
    {
     "name": "stdout",
     "output_type": "stream",
     "text": [
      "First name is dupicated - True\n",
      "Last name is dupicated - True\n",
      "Email is dupicated - False\n"
     ]
    }
   ],
   "source": [
    "# Check to see if data is duplicated\n",
    "print(\"First name is dupicated - {}\".format(any(data.first_name.duplicated())))\n",
    "print(\"Last name is dupicated - {}\".format(any(data.last_name.duplicated())))\n",
    "print(\"Email is dupicated - {}\".format(any(data.email.duplicated())))\n"
   ]
  },
  {
   "cell_type": "code",
   "execution_count": 21,
   "id": "8a8c888c",
   "metadata": {},
   "outputs": [
    {
     "name": "stdout",
     "output_type": "stream",
     "text": [
      "The column Email contains NaN - np.False_ \n",
      "The column IP Address contains NaN -False \n",
      "The column Visit contains NaN - True \n"
     ]
    }
   ],
   "source": [
    "# Check for NaN values the code displays different ways to display the result\n",
    "print(\"The column Email contains NaN - %r \" % data.email.isnull().values.any())\n",
    "print(\"The column IP Address contains NaN -%s \"% data.ip_address.isnull().values.any())\n",
    "print(\"The column Visit contains NaN - %s \" % data.visit.isnull().values.any())\n",
    "\n"
   ]
  },
  {
   "cell_type": "code",
   "execution_count": 22,
   "id": "8cf45f8b",
   "metadata": {},
   "outputs": [],
   "source": [
    "# This code adjusts the size of the data\n",
    "data_prev=data.shape # This code preserves the original size\n",
    "data = data[np.isfinite(data[\"visit\"])] # This code \n",
    "data_after = data.shape\n",
    "\n"
   ]
  },
  {
   "cell_type": "code",
   "execution_count": 23,
   "id": "c9afb821",
   "metadata": {},
   "outputs": [
    {
     "name": "stdout",
     "output_type": "stream",
     "text": [
      "The size of the previous data is : (1000, 7)\n",
      "The size of the previous data is : (974, 7)\n"
     ]
    }
   ],
   "source": [
    "print(\"The size of the previous data is :\", data_prev)\n",
    "print(\"The size of the previous data is :\", data_after)"
   ]
  },
  {
   "cell_type": "code",
   "execution_count": 24,
   "id": "9307959f",
   "metadata": {},
   "outputs": [
    {
     "data": {
      "text/plain": [
       "Text(0, 0.5, 'Total Visits')"
      ]
     },
     "execution_count": 24,
     "metadata": {},
     "output_type": "execute_result"
    },
    {
     "data": {
      "image/png": "[encoded data removed]",
      "text/plain": [
       "<Figure size 640x480 with 1 Axes>"
      ]
     },
     "metadata": {},
     "output_type": "display_data"
    }
   ],
   "source": [
    "plt.boxplot(data.visit, notch= True)\n",
    "plt.title(\"Boxplot of Visits\",fontsize = 20, weight = \"bold\")\n",
    "plt.xlabel(\"Visits\", fontsize = 10, weight = \"bold\")\n",
    "plt.ylabel(\"Total Visits\", fontsize = 10, weight = \"bold\")"
   ]
  },
  {
   "cell_type": "code",
   "execution_count": 25,
   "id": "248ca4c2",
   "metadata": {},
   "outputs": [
    {
     "name": "stdout",
     "output_type": "stream",
     "text": [
      "The new size of the data is: 923\n"
     ]
    }
   ],
   "source": [
    "# This code removes the outliers and provides the \n",
    "# new size of the data set\n",
    "new_data = data[(data[\"visit\"] <= 2900) & \\\n",
    "    (data[\"visit\"] >=100)]\n",
    "print(\"The new size of the data is: {}\".format(*new_data.shape))"
   ]
  },
  {
   "cell_type": "markdown",
   "id": "3ef12298",
   "metadata": {},
   "source": [
    "# SQL Database Assignment\n"
   ]
  },
  {
   "cell_type": "code",
   "execution_count": 26,
   "id": "09242d73",
   "metadata": {},
   "outputs": [],
   "source": [
    "# This code creates the database\n",
    "conn = sqlite3.connect(\"cust.db\")"
   ]
  },
  {
   "cell_type": "code",
   "execution_count": 27,
   "id": "70c05946",
   "metadata": {},
   "outputs": [],
   "source": [
    "# This code creates the cursor to manage the database\n",
    "c = conn.cursor()"
   ]
  },
  {
   "cell_type": "code",
   "execution_count": 28,
   "id": "6303c930",
   "metadata": {},
   "outputs": [],
   "source": [
    "# This code creates the table for the database\n",
    "c.execute(\"\"\"CREATE TABLE customer(\n",
    "    First TEXT,\n",
    "    Last, \n",
    "    Address TEXT,\n",
    "    City TEXT, \n",
    "    State TEXT, \n",
    "    Zip Code INTEGER, \n",
    "    Phone Number TEXT)\"\"\")\n",
    "conn.commit()"
   ]
  },
  {
   "cell_type": "code",
   "execution_count": 29,
   "id": "357c6304",
   "metadata": {},
   "outputs": [
    {
     "data": {
      "text/plain": [
       "<sqlite3.Cursor at 0x2411caed4c0>"
      ]
     },
     "execution_count": 29,
     "metadata": {},
     "output_type": "execute_result"
    }
   ],
   "source": [
    "# This series of codes adds the customer data to the table\n",
    "c.execute('INSERT INTO customer VALUES(\"Michael\", \"Perrine\", \"1023 Cerro Alto Dr\", \"San Antonio\",  \"TX\",  78213, \"210-343-9973\")')\n",
    "c.execute('INSERT INTO customer VALUES(\"Jon\", \"Smith\", \"23 Main Dr\", \"San Antonio\", \"TX\",  78213,  \"210-885-9966\")')\n",
    "c.execute('INSERT INTO customer VALUES(\"Mitchel\", \"Palmer\", \"11529 Blake Ave\", \"Kansas City\", \"Mo\", 64802, \"816-213-1111\")')\n",
    "c.execute('INSERT INTO customer VALUES(\"Ann\", \"Jones\", \"14 Ave E\", \"Johnson City\", \"OK\", 45783, \"478-329-7512\")')\n",
    "c.execute('INSERT INTO customer VALUES(\"Jack\", \"Johnson\", \"12 Beach Dr\", \"Kona\", \"Hi\", 97643, \"549-654-9632\")')\n",
    "c.execute('INSERT INTO customer VALUES(\"Sheryl\", \"Crow\", \"124965 Star St\",\"Malibu\", \"Ca\", 23649,  \"555-746-8745\")')\n",
    "c.execute('INSERT INTO customer VALUES(\"Michael\", \"Myers\", \"666 Chrystal Park\", \"Chrystal City\", \"Or\", 62015, \"321-666-7845\")')\n",
    "c.execute('INSERT INTO customer VALUES(\"Mary\", \"Peters\", \"14 North Ave\", \"Boston\", \"Ma\", 39478, \"548-147-8793\")')\n",
    "c.execute('INSERT INTO customer VALUES(\"John\", \"Smith\", \"10 Apple Ln\", \"Park City\", \"Ut\", 52169, \"216-954-3322\")')\n",
    "c.execute('INSERT INTO customer VALUES(\"Harry\", \"Potter\", \"1023 Wizard Way\", \"London\", \"Wy\", 30365, \"568-965-7410\")')"
   ]
  },
  {
   "cell_type": "code",
   "execution_count": 30,
   "id": "bed30f4a",
   "metadata": {},
   "outputs": [
    {
     "data": {
      "text/plain": [
       "<sqlite3.Cursor at 0x2411caed4c0>"
      ]
     },
     "execution_count": 30,
     "metadata": {},
     "output_type": "execute_result"
    }
   ],
   "source": [
    "# This code selects a customer\n",
    "c.execute(\"SELECT * FROM customer WHERE last = 'Johnson'\")"
   ]
  },
  {
   "cell_type": "code",
   "execution_count": 31,
   "id": "70aff4e7",
   "metadata": {},
   "outputs": [
    {
     "data": {
      "text/plain": [
       "('Jack', 'Johnson', '12 Beach Dr', 'Kona', 'Hi', 97643, '549-654-9632')"
      ]
     },
     "execution_count": 31,
     "metadata": {},
     "output_type": "execute_result"
    }
   ],
   "source": [
    "# This code displays the query\n",
    "c.fetchone()"
   ]
  },
  {
   "cell_type": "code",
   "execution_count": 32,
   "id": "d2819a45",
   "metadata": {},
   "outputs": [
    {
     "data": {
      "text/plain": [
       "<sqlite3.Cursor at 0x2411caed4c0>"
      ]
     },
     "execution_count": 32,
     "metadata": {},
     "output_type": "execute_result"
    }
   ],
   "source": [
    "# This code selects a customer\n",
    "c.execute(\"SELECT * FROM customer WHERE first ='Michael'\")"
   ]
  },
  {
   "cell_type": "code",
   "execution_count": 33,
   "id": "bdc59909",
   "metadata": {},
   "outputs": [
    {
     "data": {
      "text/plain": [
       "('Michael',\n",
       " 'Perrine',\n",
       " '1023 Cerro Alto Dr',\n",
       " 'San Antonio',\n",
       " 'TX',\n",
       " 78213,\n",
       " '210-343-9973')"
      ]
     },
     "execution_count": 33,
     "metadata": {},
     "output_type": "execute_result"
    }
   ],
   "source": [
    "# This code displays the query\n",
    "c.fetchone()"
   ]
  },
  {
   "cell_type": "code",
   "execution_count": 34,
   "id": "7adcc8d0",
   "metadata": {},
   "outputs": [
    {
     "data": {
      "text/plain": [
       "<sqlite3.Cursor at 0x2411caed4c0>"
      ]
     },
     "execution_count": 34,
     "metadata": {},
     "output_type": "execute_result"
    }
   ],
   "source": [
    "# This code selects a customer\n",
    "c.execute(\"SELECT * FROM customer WHERE city ='Kansas City'\")"
   ]
  },
  {
   "cell_type": "code",
   "execution_count": 35,
   "id": "52d3fa85",
   "metadata": {},
   "outputs": [
    {
     "data": {
      "text/plain": [
       "('Mitchel',\n",
       " 'Palmer',\n",
       " '11529 Blake Ave',\n",
       " 'Kansas City',\n",
       " 'Mo',\n",
       " 64802,\n",
       " '816-213-1111')"
      ]
     },
     "execution_count": 35,
     "metadata": {},
     "output_type": "execute_result"
    }
   ],
   "source": [
    "# This code displays the query\n",
    "c.fetchone()"
   ]
  },
  {
   "cell_type": "code",
   "execution_count": 36,
   "id": "dc81589b",
   "metadata": {},
   "outputs": [],
   "source": [
    "conn.close()"
   ]
  }
 ],
 "metadata": {
  "kernelspec": {
   "display_name": "data_prep",
   "language": "python",
   "name": "python3"
  },
  "language_info": {
   "codemirror_mode": {
    "name": "ipython",
    "version": 3
   },
   "file_extension": ".py",
   "mimetype": "text/x-python",
   "name": "python",
   "nbconvert_exporter": "python",
   "pygments_lexer": "ipython3",
   "version": "3.13.2"
  }
 },
 "nbformat": 4,
 "nbformat_minor": 5
}
