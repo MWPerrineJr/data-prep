{
 "cells": [
  {
   "cell_type": "markdown",
   "id": "35222fd8",
   "metadata": {},
   "source": [
    "#### Week 5 and 6 Assignment\n",
    "#### Michael Perrine\n",
    "#### DSC 540 Data Wrangling\n",
    "#### Professor Williams"
   ]
  },
  {
   "cell_type": "markdown",
   "id": "7f534694",
   "metadata": {},
   "source": [
    "# Web Scraping Wikipedia- List of Countries by GDP(Nominal)"
   ]
  },
  {
   "cell_type": "markdown",
   "id": "98de2263",
   "metadata": {},
   "source": []
  },
  {
   "cell_type": "code",
   "execution_count": 2,
   "id": "02f6d3e5",
   "metadata": {},
   "outputs": [],
   "source": [
    "# load libraries\n",
    "from bs4 import BeautifulSoup\n",
    "import pandas as pd\n",
    "import requests"
   ]
  },
  {
   "cell_type": "code",
   "execution_count": 4,
   "id": "62c46848",
   "metadata": {},
   "outputs": [],
   "source": [
    "# Get URL\n",
    "url = \"https://en.wikipedia.org/wiki/List_of_countries_by_GDP_(nominal)\"\n",
    "\n",
    "page = requests.get(url)\n",
    "\n",
    "soup = BeautifulSoup(page.text, \"html\")"
   ]
  },
  {
   "cell_type": "code",
   "execution_count": null,
   "id": "f4a84a3a",
   "metadata": {},
   "outputs": [],
   "source": [
    "print(soup)"
   ]
  },
  {
   "cell_type": "code",
   "execution_count": null,
   "id": "919eaafa",
   "metadata": {},
   "outputs": [],
   "source": [
    "#<table class=\"wikitable sortable sticky-header-multi static-row-numbers jquery-tablesorter\" style=\"text-align:right\">"
   ]
  },
  {
   "cell_type": "code",
   "execution_count": 38,
   "id": "4eb5d63e",
   "metadata": {},
   "outputs": [],
   "source": [
    "table = soup.find(\"table\", class_ =\"wikitable sortable sticky-header-multi static \")\n",
    "table"
   ]
  },
  {
   "cell_type": "code",
   "execution_count": 40,
   "id": "b9d24ca2",
   "metadata": {},
   "outputs": [],
   "source": [
    "country_titles = soup.find_all(\"th\")"
   ]
  },
  {
   "cell_type": "code",
   "execution_count": 41,
   "id": "1990779d",
   "metadata": {},
   "outputs": [
    {
     "data": {
      "text/plain": [
       "[<th rowspan=\"2\">Country/Territory\n",
       " </th>,\n",
       " <th colspan=\"2\"><a href=\"/wiki/International_Monetary_Fund\" title=\"International Monetary Fund\">IMF</a><sup class=\"reference\" id=\"cite_ref-GDP_IMF_2-2\"><a href=\"#cite_note-GDP_IMF-2\"><span class=\"cite-bracket\">[</span>1<span class=\"cite-bracket\">]</span></a></sup><sup class=\"reference\" id=\"cite_ref-14\"><a href=\"#cite_note-14\"><span class=\"cite-bracket\">[</span>12<span class=\"cite-bracket\">]</span></a></sup>\n",
       " </th>,\n",
       " <th colspan=\"2\"><a href=\"/wiki/World_Bank\" title=\"World Bank\">World Bank</a><sup class=\"reference\" id=\"cite_ref-15\"><a href=\"#cite_note-15\"><span class=\"cite-bracket\">[</span>13<span class=\"cite-bracket\">]</span></a></sup>\n",
       " </th>,\n",
       " <th colspan=\"2\"><a href=\"/wiki/United_Nations\" title=\"United Nations\">United Nations</a><sup class=\"reference\" id=\"cite_ref-UN_16-0\"><a href=\"#cite_note-UN-16\"><span class=\"cite-bracket\">[</span>14<span class=\"cite-bracket\">]</span></a></sup>\n",
       " </th>,\n",
       " <th>Forecast</th>,\n",
       " <th>Year</th>,\n",
       " <th>Estimate</th>,\n",
       " <th>Year</th>,\n",
       " <th>Estimate</th>,\n",
       " <th>Year\n",
       " </th>,\n",
       " <th class=\"navbox-title\" colspan=\"2\" scope=\"col\"><link href=\"mw-data:TemplateStyles:r1129693374\" rel=\"mw-deduplicated-inline-style\"/><style data-mw-deduplicate=\"TemplateStyles:r1239400231\">.mw-parser-output .navbar{display:inline;font-size:88%;font-weight:normal}.mw-parser-output .navbar-collapse{float:left;text-align:left}.mw-parser-output .navbar-boxtext{word-spacing:0}.mw-parser-output .navbar ul{display:inline-block;white-space:nowrap;line-height:inherit}.mw-parser-output .navbar-brackets::before{margin-right:-0.125em;content:\"[ \"}.mw-parser-output .navbar-brackets::after{margin-left:-0.125em;content:\" ]\"}.mw-parser-output .navbar li{word-spacing:-0.125em}.mw-parser-output .navbar a>span,.mw-parser-output .navbar a>abbr{text-decoration:inherit}.mw-parser-output .navbar-mini abbr{font-variant:small-caps;border-bottom:none;text-decoration:none;cursor:inherit}.mw-parser-output .navbar-ct-full{font-size:114%;margin:0 7em}.mw-parser-output .navbar-ct-mini{font-size:114%;margin:0 4em}html.skin-theme-clientpref-night .mw-parser-output .navbar li a abbr{color:var(--color-base)!important}@media(prefers-color-scheme:dark){html.skin-theme-clientpref-os .mw-parser-output .navbar li a abbr{color:var(--color-base)!important}}@media print{.mw-parser-output .navbar{display:none!important}}</style><div class=\"navbar plainlinks hlist navbar-mini\"><ul><li class=\"nv-view\"><a href=\"/wiki/Template:Finance_country_lists\" title=\"Template:Finance country lists\"><abbr title=\"View this template\">v</abbr></a></li><li class=\"nv-talk\"><a href=\"/wiki/Template_talk:Finance_country_lists\" title=\"Template talk:Finance country lists\"><abbr title=\"Discuss this template\">t</abbr></a></li><li class=\"nv-edit\"><a href=\"/wiki/Special:EditPage/Template:Finance_country_lists\" title=\"Special:EditPage/Template:Finance country lists\"><abbr title=\"Edit this template\">e</abbr></a></li></ul></div><div id=\"Lists_of_countries_by_financial_rankings570\" style=\"font-size:114%;margin:0 4em\"><a href=\"/wiki/Lists_of_sovereign_states_and_dependent_territories\" title=\"Lists of sovereign states and dependent territories\">Lists of countries</a> by <a href=\"/wiki/International_finance\" title=\"International finance\">financial</a> <a href=\"/wiki/List_of_international_rankings\" title=\"List of international rankings\">rankings</a></div></th>,\n",
       " <th class=\"navbox-group\" scope=\"row\" style=\"width:1%\"><a href=\"/wiki/International_trade#Largest_countries_or_regions_by_total_international_trade\" title=\"International trade\">Trade</a></th>,\n",
       " <th class=\"navbox-group\" scope=\"row\" style=\"width:1%\"><a href=\"/wiki/Foreign_direct_investment\" title=\"Foreign direct investment\">Investment</a></th>,\n",
       " <th class=\"navbox-group\" scope=\"row\" style=\"width:1%\">Funds</th>,\n",
       " <th class=\"navbox-group\" scope=\"row\" style=\"width:1%\">Budget and debt</th>,\n",
       " <th class=\"navbox-group\" scope=\"row\" style=\"width:1%\">Income and taxes</th>,\n",
       " <th class=\"navbox-group\" scope=\"row\" style=\"width:1%\">Bank rates</th>,\n",
       " <th class=\"navbox-group\" scope=\"row\" style=\"width:1%\"><a href=\"/wiki/Currency\" title=\"Currency\">Currency</a></th>,\n",
       " <th class=\"navbox-group\" scope=\"row\" style=\"width:1%\">Other</th>,\n",
       " <th class=\"navbox-title\" colspan=\"2\" scope=\"col\"><link href=\"mw-data:TemplateStyles:r1129693374\" rel=\"mw-deduplicated-inline-style\"/><link href=\"mw-data:TemplateStyles:r1239400231\" rel=\"mw-deduplicated-inline-style\"/><div class=\"navbar plainlinks hlist navbar-mini\"><ul><li class=\"nv-view\"><a href=\"/wiki/Template:GDP_country_lists\" title=\"Template:GDP country lists\"><abbr title=\"View this template\">v</abbr></a></li><li class=\"nv-talk\"><a href=\"/wiki/Template_talk:GDP_country_lists\" title=\"Template talk:GDP country lists\"><abbr title=\"Discuss this template\">t</abbr></a></li><li class=\"nv-edit\"><a href=\"/wiki/Special:EditPage/Template:GDP_country_lists\" title=\"Special:EditPage/Template:GDP country lists\"><abbr title=\"Edit this template\">e</abbr></a></li></ul></div><div id=\"Lists_of_countries_by_GDP_rankings525\" style=\"font-size:114%;margin:0 4em\"><a href=\"/wiki/Lists_of_sovereign_states_and_dependent_territories\" title=\"Lists of sovereign states and dependent territories\">Lists of countries</a> by <a href=\"/wiki/Gross_domestic_product\" title=\"Gross domestic product\">GDP</a> rankings</div></th>,\n",
       " <th class=\"navbox-group\" scope=\"row\" style=\"width:1%\">Nominal</th>,\n",
       " <th class=\"navbox-group\" scope=\"row\" style=\"width:1%\"><a href=\"/wiki/Purchasing_power_parity\" title=\"Purchasing power parity\">Purchasing power parity</a> (PPP)</th>,\n",
       " <th class=\"navbox-group\" scope=\"row\" style=\"width:1%\"><a href=\"/wiki/Per_capita\" title=\"Per capita\">Per capita</a></th>,\n",
       " <th class=\"navbox-group\" scope=\"row\" style=\"width:1%\"><a href=\"/wiki/Economic_growth\" title=\"Economic growth\">GDP growth</a></th>,\n",
       " <th class=\"navbox-group\" scope=\"row\" style=\"width:1%\"><a href=\"/wiki/Gross_national_income\" title=\"Gross national income\">Gross national income (GNI)</a></th>,\n",
       " <th class=\"navbox-group\" scope=\"row\" style=\"width:1%\">Countries by region</th>,\n",
       " <th class=\"navbox-group\" scope=\"row\" style=\"width:1%\">Subnational divisions</th>,\n",
       " <th class=\"navbox-title\" colspan=\"2\" scope=\"col\"><link href=\"mw-data:TemplateStyles:r1129693374\" rel=\"mw-deduplicated-inline-style\"/><link href=\"mw-data:TemplateStyles:r1239400231\" rel=\"mw-deduplicated-inline-style\"/><div class=\"navbar plainlinks hlist navbar-mini\"><ul><li class=\"nv-view\"><a href=\"/wiki/Template:Global_economic_classifications\" title=\"Template:Global economic classifications\"><abbr title=\"View this template\">v</abbr></a></li><li class=\"nv-talk\"><a href=\"/wiki/Template_talk:Global_economic_classifications\" title=\"Template talk:Global economic classifications\"><abbr title=\"Discuss this template\">t</abbr></a></li><li class=\"nv-edit\"><a href=\"/wiki/Special:EditPage/Template:Global_economic_classifications\" title=\"Special:EditPage/Template:Global economic classifications\"><abbr title=\"Edit this template\">e</abbr></a></li></ul></div><div id=\"Economic_classification_of_countries792\" style=\"font-size:114%;margin:0 4em\">Economic classification of countries</div></th>,\n",
       " <th class=\"navbox-group\" scope=\"row\" style=\"width:1%\"><a href=\"/wiki/Three-world_model\" title=\"Three-world model\">Three/Four-World Model</a></th>,\n",
       " <th class=\"navbox-group\" scope=\"row\" style=\"width:1%\"><a href=\"/wiki/Gross_domestic_product\" title=\"Gross domestic product\">Gross domestic product</a> (GDP)</th>,\n",
       " <th class=\"navbox-group\" scope=\"row\" style=\"width:1%\"><a href=\"/wiki/Gross_domestic_product#Nominal_GDP_and_adjustments_to_GDP\" title=\"Gross domestic product\">Nominal</a></th>,\n",
       " <th class=\"navbox-group\" scope=\"row\" style=\"width:1%\"><a href=\"/wiki/Gross_domestic_product#Cross-border_comparison_and_PPP\" title=\"Gross domestic product\">Purchasing <br/> power parity</a> (PPP)</th>,\n",
       " <th class=\"navbox-group\" scope=\"row\" style=\"width:1%\"><a href=\"/wiki/Income\" title=\"Income\">Income</a></th>,\n",
       " <th class=\"navbox-group\" scope=\"row\" style=\"width:1%\"><a href=\"/wiki/Wage\" title=\"Wage\">Wages</a></th>,\n",
       " <th class=\"navbox-group\" scope=\"row\" style=\"width:1%\"><a class=\"mw-redirect\" href=\"/wiki/National_wealth\" title=\"National wealth\">Wealth</a></th>,\n",
       " <th class=\"navbox-group\" scope=\"row\" style=\"width:1%\">Other <a href=\"/wiki/National_accounts\" title=\"National accounts\">national accounts</a></th>,\n",
       " <th class=\"navbox-group\" scope=\"row\" style=\"width:1%\"><a class=\"mw-redirect\" href=\"/wiki/Human_development_(humanity)\" title=\"Human development (humanity)\">Human development</a></th>,\n",
       " <th class=\"navbox-group\" scope=\"row\" style=\"width:1%\"><a href=\"/wiki/Digital_divide\" title=\"Digital divide\">Digital divide</a></th>,\n",
       " <th class=\"navbox-group\" scope=\"row\" style=\"width:1%\"><a href=\"/wiki/Net_international_investment_position\" title=\"Net international investment position\">Net international <br/> investment position</a> (NIIP)</th>]"
      ]
     },
     "execution_count": 41,
     "metadata": {},
     "output_type": "execute_result"
    }
   ],
   "source": [
    "country_titles"
   ]
  },
  {
   "cell_type": "code",
   "execution_count": 42,
   "id": "cbae11b0",
   "metadata": {},
   "outputs": [
    {
     "data": {
      "text/plain": [
       "['Country/Territory',\n",
       " 'IMF[1][12]',\n",
       " 'World Bank[13]',\n",
       " 'United Nations[14]',\n",
       " 'Forecast',\n",
       " 'Year',\n",
       " 'Estimate',\n",
       " 'Year',\n",
       " 'Estimate',\n",
       " 'Year',\n",
       " 'vteLists of countries by financial rankings',\n",
       " 'Trade',\n",
       " 'Investment',\n",
       " 'Funds',\n",
       " 'Budget and debt',\n",
       " 'Income and taxes',\n",
       " 'Bank rates',\n",
       " 'Currency',\n",
       " 'Other',\n",
       " 'vteLists of countries by GDP rankings',\n",
       " 'Nominal',\n",
       " 'Purchasing power parity (PPP)',\n",
       " 'Per capita',\n",
       " 'GDP growth',\n",
       " 'Gross national income (GNI)',\n",
       " 'Countries by region',\n",
       " 'Subnational divisions',\n",
       " 'vteEconomic classification of countries',\n",
       " 'Three/Four-World Model',\n",
       " 'Gross domestic product (GDP)',\n",
       " 'Nominal',\n",
       " 'Purchasing  power parity (PPP)',\n",
       " 'Income',\n",
       " 'Wages',\n",
       " 'Wealth',\n",
       " 'Other national accounts',\n",
       " 'Human development',\n",
       " 'Digital divide',\n",
       " 'Net international  investment position (NIIP)']"
      ]
     },
     "execution_count": 42,
     "metadata": {},
     "output_type": "execute_result"
    }
   ],
   "source": [
    "country_table_titles = [title.text.strip() for title in country_titles]\n",
    "\n",
    "country_table_titles"
   ]
  },
  {
   "cell_type": "code",
   "execution_count": 43,
   "id": "eec43847",
   "metadata": {},
   "outputs": [
    {
     "data": {
      "text/html": [
       "<div>\n",
       "<style scoped>\n",
       "    .dataframe tbody tr th:only-of-type {\n",
       "        vertical-align: middle;\n",
       "    }\n",
       "\n",
       "    .dataframe tbody tr th {\n",
       "        vertical-align: top;\n",
       "    }\n",
       "\n",
       "    .dataframe thead th {\n",
       "        text-align: right;\n",
       "    }\n",
       "</style>\n",
       "<table border=\"1\" class=\"dataframe\">\n",
       "  <thead>\n",
       "    <tr style=\"text-align: right;\">\n",
       "      <th></th>\n",
       "      <th>Country/Territory</th>\n",
       "      <th>IMF[1][12]</th>\n",
       "      <th>World Bank[13]</th>\n",
       "      <th>United Nations[14]</th>\n",
       "      <th>Forecast</th>\n",
       "      <th>Year</th>\n",
       "      <th>Estimate</th>\n",
       "      <th>Year</th>\n",
       "      <th>Estimate</th>\n",
       "      <th>Year</th>\n",
       "      <th>...</th>\n",
       "      <th>Gross domestic product (GDP)</th>\n",
       "      <th>Nominal</th>\n",
       "      <th>Purchasing  power parity (PPP)</th>\n",
       "      <th>Income</th>\n",
       "      <th>Wages</th>\n",
       "      <th>Wealth</th>\n",
       "      <th>Other national accounts</th>\n",
       "      <th>Human development</th>\n",
       "      <th>Digital divide</th>\n",
       "      <th>Net international  investment position (NIIP)</th>\n",
       "    </tr>\n",
       "  </thead>\n",
       "  <tbody>\n",
       "  </tbody>\n",
       "</table>\n",
       "<p>0 rows × 39 columns</p>\n",
       "</div>"
      ],
      "text/plain": [
       "Empty DataFrame\n",
       "Columns: [Country/Territory, IMF[1][12], World Bank[13], United Nations[14], Forecast, Year, Estimate, Year, Estimate, Year, vteLists of countries by financial rankings, Trade, Investment, Funds, Budget and debt, Income and taxes, Bank rates, Currency, Other, vteLists of countries by GDP rankings, Nominal, Purchasing power parity (PPP), Per capita, GDP growth, Gross national income (GNI), Countries by region, Subnational divisions, vteEconomic classification of countries, Three/Four-World Model, Gross domestic product (GDP), Nominal, Purchasing  power parity (PPP), Income, Wages, Wealth, Other national accounts, Human development, Digital divide, Net international  investment position (NIIP)]\n",
       "Index: []\n",
       "\n",
       "[0 rows x 39 columns]"
      ]
     },
     "execution_count": 43,
     "metadata": {},
     "output_type": "execute_result"
    }
   ],
   "source": [
    "country_gdp = pd.DataFrame(columns= country_table_titles)\n",
    "country_gdp"
   ]
  }
 ],
 "metadata": {
  "kernelspec": {
   "display_name": "data_prep",
   "language": "python",
   "name": "python3"
  },
  "language_info": {
   "codemirror_mode": {
    "name": "ipython",
    "version": 3
   },
   "file_extension": ".py",
   "mimetype": "text/x-python",
   "name": "python",
   "nbconvert_exporter": "python",
   "pygments_lexer": "ipython3",
   "version": "3.13.2"
  }
 },
 "nbformat": 4,
 "nbformat_minor": 5
}
