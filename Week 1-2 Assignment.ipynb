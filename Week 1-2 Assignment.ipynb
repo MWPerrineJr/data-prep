{
 "cells": [
  {
   "cell_type": "markdown",
   "metadata": {},
   "source": [
    "#### Week 1-2 Assignment\n",
    "##### Michael Perrine\n",
    "##### Professor Williams\n",
    "##### DSC 540"
   ]
  },
  {
   "cell_type": "code",
   "execution_count": 9,
   "metadata": {},
   "outputs": [],
   "source": [
    "import numpy as np\n",
    "import pandas as pd\n",
    "import random \n",
    "import matplotlib.pyplot as plt\n",
    "import openpyxl\n",
    "import math"
   ]
  },
  {
   "cell_type": "markdown",
   "metadata": {},
   "source": [
    "1. Create, iterate, append list"
   ]
  },
  {
   "cell_type": "code",
   "execution_count": 52,
   "metadata": {},
   "outputs": [
    {
     "data": {
      "text/plain": [
       "[1, 3, 8, 6, 4, 5, 10, 9, 20]"
      ]
     },
     "execution_count": 52,
     "metadata": {},
     "output_type": "execute_result"
    }
   ],
   "source": [
    "# Create a list\n",
    "list = [1,3,8,6,4,5,10,9,20]\n",
    "list"
   ]
  },
  {
   "cell_type": "code",
   "execution_count": 53,
   "metadata": {},
   "outputs": [
    {
     "name": "stdout",
     "output_type": "stream",
     "text": [
      "1\n",
      "3\n",
      "8\n",
      "6\n",
      "4\n",
      "5\n",
      "10\n",
      "9\n",
      "20\n"
     ]
    }
   ],
   "source": [
    "# Iterate over a list\n",
    "for i in list:\n",
    "    print(i)\n"
   ]
  },
  {
   "cell_type": "code",
   "execution_count": 54,
   "metadata": {},
   "outputs": [
    {
     "data": {
      "text/plain": [
       "[1, 3, 4, 5, 6, 8, 9, 10, 20]"
      ]
     },
     "execution_count": 54,
     "metadata": {},
     "output_type": "execute_result"
    }
   ],
   "source": [
    "# Sort the list\n",
    "list.sort()\n",
    "list"
   ]
  },
  {
   "cell_type": "code",
   "execution_count": 55,
   "metadata": {},
   "outputs": [
    {
     "data": {
      "text/plain": [
       "[27, 27, 21, 1, 8, 29, 7, 25, 22, 1]"
      ]
     },
     "execution_count": 55,
     "metadata": {},
     "output_type": "execute_result"
    }
   ],
   "source": [
    "list_1 = []\n",
    "for i in range(10):\n",
    "    x= random.randint(0,30)\n",
    "    list_1.append(x)\n",
    "list_1\n",
    "\n"
   ]
  },
  {
   "cell_type": "code",
   "execution_count": 56,
   "metadata": {},
   "outputs": [
    {
     "data": {
      "text/plain": [
       "[1, 1, 1, 3, 4, 5, 6, 7, 8, 8, 9, 10, 20, 21, 22, 25, 27, 27, 29]"
      ]
     },
     "execution_count": 56,
     "metadata": {},
     "output_type": "execute_result"
    }
   ],
   "source": [
    "# combine list 1 and list 2\n",
    "list_2 = list + list_1\n",
    "list_2.sort()\n",
    "list_2\n"
   ]
  },
  {
   "cell_type": "markdown",
   "metadata": {},
   "source": [
    "2. Import excel file and create graph"
   ]
  },
  {
   "cell_type": "code",
   "execution_count": 57,
   "metadata": {},
   "outputs": [
    {
     "data": {
      "text/html": [
       "<div>\n",
       "<style scoped>\n",
       "    .dataframe tbody tr th:only-of-type {\n",
       "        vertical-align: middle;\n",
       "    }\n",
       "\n",
       "    .dataframe tbody tr th {\n",
       "        vertical-align: top;\n",
       "    }\n",
       "\n",
       "    .dataframe thead th {\n",
       "        text-align: right;\n",
       "    }\n",
       "</style>\n",
       "<table border=\"1\" class=\"dataframe\">\n",
       "  <thead>\n",
       "    <tr style=\"text-align: right;\">\n",
       "      <th></th>\n",
       "      <th>Year</th>\n",
       "      <th>Population</th>\n",
       "    </tr>\n",
       "  </thead>\n",
       "  <tbody>\n",
       "    <tr>\n",
       "      <th>0</th>\n",
       "      <td>1960</td>\n",
       "      <td>3028654024</td>\n",
       "    </tr>\n",
       "    <tr>\n",
       "      <th>1</th>\n",
       "      <td>1961</td>\n",
       "      <td>3068356747</td>\n",
       "    </tr>\n",
       "    <tr>\n",
       "      <th>2</th>\n",
       "      <td>1962</td>\n",
       "      <td>3121963107</td>\n",
       "    </tr>\n",
       "    <tr>\n",
       "      <th>3</th>\n",
       "      <td>1963</td>\n",
       "      <td>3187471383</td>\n",
       "    </tr>\n",
       "    <tr>\n",
       "      <th>4</th>\n",
       "      <td>1964</td>\n",
       "      <td>3253112403</td>\n",
       "    </tr>\n",
       "  </tbody>\n",
       "</table>\n",
       "</div>"
      ],
      "text/plain": [
       "   Year  Population\n",
       "0  1960  3028654024\n",
       "1  1961  3068356747\n",
       "2  1962  3121963107\n",
       "3  1963  3187471383\n",
       "4  1964  3253112403"
      ]
     },
     "execution_count": 57,
     "metadata": {},
     "output_type": "execute_result"
    }
   ],
   "source": [
    "# import excel file and view first 5 rows\n",
    "world = pd.read_excel(r\"C:\\Users\\mchlp\\OneDrive\\Documents\\Data Preperation\\files\\world-population .xlsm\")\n",
    "world.head()"
   ]
  },
  {
   "cell_type": "code",
   "execution_count": 58,
   "metadata": {},
   "outputs": [
    {
     "data": {
      "image/png": "[encoded data removed]",
      "text/plain": [
       "<Figure size 640x480 with 1 Axes>"
      ]
     },
     "metadata": {},
     "output_type": "display_data"
    }
   ],
   "source": [
    "# create a line graph\n",
    "plt.plot(world['Year'], world['Population'])\n",
    "plt.title(\"World Population by Year\")\n",
    "plt.xlabel(\"Year\")\n",
    "plt.ylabel(\" Population\")\n",
    "plt.show()"
   ]
  },
  {
   "cell_type": "markdown",
   "metadata": {},
   "source": [
    "3.1 Activity 1.01"
   ]
  },
  {
   "cell_type": "markdown",
   "metadata": {},
   "source": [
    "1. first I will create a list of random numbers"
   ]
  },
  {
   "cell_type": "code",
   "execution_count": 59,
   "metadata": {},
   "outputs": [
    {
     "data": {
      "text/plain": [
       "[114,\n",
       " 53,\n",
       " 46,\n",
       " 64,\n",
       " 31,\n",
       " 30,\n",
       " 84,\n",
       " 53,\n",
       " 138,\n",
       " 17,\n",
       " 63,\n",
       " 118,\n",
       " 136,\n",
       " 105,\n",
       " 2,\n",
       " 148,\n",
       " 114,\n",
       " 95,\n",
       " 52,\n",
       " 24,\n",
       " 104,\n",
       " 107,\n",
       " 5,\n",
       " 139,\n",
       " 88,\n",
       " 136,\n",
       " 136,\n",
       " 21,\n",
       " 2,\n",
       " 33,\n",
       " 78,\n",
       " 10,\n",
       " 43,\n",
       " 124,\n",
       " 101,\n",
       " 4,\n",
       " 138,\n",
       " 77,\n",
       " 19,\n",
       " 110,\n",
       " 76,\n",
       " 18,\n",
       " 5,\n",
       " 6,\n",
       " 95,\n",
       " 97,\n",
       " 107,\n",
       " 95,\n",
       " 42,\n",
       " 79,\n",
       " 18,\n",
       " 124,\n",
       " 53,\n",
       " 0,\n",
       " 105,\n",
       " 61,\n",
       " 110,\n",
       " 37,\n",
       " 53,\n",
       " 139,\n",
       " 88,\n",
       " 57,\n",
       " 58,\n",
       " 109,\n",
       " 56,\n",
       " 28,\n",
       " 76,\n",
       " 77,\n",
       " 88,\n",
       " 54,\n",
       " 97,\n",
       " 128,\n",
       " 106,\n",
       " 70,\n",
       " 142,\n",
       " 96,\n",
       " 125,\n",
       " 69,\n",
       " 149,\n",
       " 115,\n",
       " 132,\n",
       " 101,\n",
       " 114,\n",
       " 144,\n",
       " 15,\n",
       " 30,\n",
       " 78,\n",
       " 54,\n",
       " 59,\n",
       " 149,\n",
       " 65,\n",
       " 53,\n",
       " 78,\n",
       " 64,\n",
       " 131,\n",
       " 45,\n",
       " 54,\n",
       " 80,\n",
       " 112,\n",
       " 131]"
      ]
     },
     "execution_count": 59,
     "metadata": {},
     "output_type": "execute_result"
    }
   ],
   "source": [
    "# This code will create a list of random numbers\n",
    "list = []\n",
    "for i in range(100):\n",
    "    x = random.randint(0,150)\n",
    "    list.append(x)\n",
    "    \n",
    "list\n",
    "    "
   ]
  },
  {
   "cell_type": "markdown",
   "metadata": {},
   "source": [
    "2. Next I will create a new list from my random list that includes numbers that are divisible by 3"
   ]
  },
  {
   "cell_type": "code",
   "execution_count": 60,
   "metadata": {},
   "outputs": [
    {
     "data": {
      "text/plain": [
       "[114,\n",
       " 30,\n",
       " 84,\n",
       " 138,\n",
       " 63,\n",
       " 105,\n",
       " 114,\n",
       " 24,\n",
       " 21,\n",
       " 33,\n",
       " 78,\n",
       " 138,\n",
       " 18,\n",
       " 6,\n",
       " 42,\n",
       " 18,\n",
       " 0,\n",
       " 105,\n",
       " 57,\n",
       " 54,\n",
       " 96,\n",
       " 69,\n",
       " 132,\n",
       " 114,\n",
       " 144,\n",
       " 15,\n",
       " 30,\n",
       " 78,\n",
       " 54,\n",
       " 78,\n",
       " 45,\n",
       " 54]"
      ]
     },
     "execution_count": 60,
     "metadata": {},
     "output_type": "execute_result"
    }
   ],
   "source": [
    "list_by_3 = [x for x in list if x % 3==0]\n",
    "list_by_3"
   ]
  },
  {
   "cell_type": "markdown",
   "metadata": {},
   "source": [
    "3. With the two lists I will calculate the length of the two lists in the list_diff variable"
   ]
  },
  {
   "cell_type": "code",
   "execution_count": 61,
   "metadata": {},
   "outputs": [
    {
     "data": {
      "text/plain": [
       "68"
      ]
     },
     "execution_count": 61,
     "metadata": {},
     "output_type": "execute_result"
    }
   ],
   "source": [
    "len_of_list = len(list)\n",
    "len_of_list_by_3 = len(list_by_3)\n",
    "list_diff= len_of_list - len_of_list_by_3\n",
    "list_diff"
   ]
  },
  {
   "cell_type": "markdown",
   "metadata": {},
   "source": [
    "4. In this code I will run 10 experiments \n"
   ]
  },
  {
   "cell_type": "code",
   "execution_count": 62,
   "metadata": {},
   "outputs": [
    {
     "data": {
      "text/plain": [
       "[89, 101, 107, 92, 105, 103, 96, 103, 103, 99]"
      ]
     },
     "execution_count": 62,
     "metadata": {},
     "output_type": "execute_result"
    }
   ],
   "source": [
    "experiments = 10\n",
    "list_3 = []\n",
    "for i in range(0,experiments):\n",
    "    list_1 = [random.randint(0,100) for x in range(1,150)]\n",
    "    list_2 = [x for x in list_1 if x % 3==0]\n",
    "    len_list_1 =len(list_1)\n",
    "    len_of_list_2 = len(list_2)\n",
    "    diff_of_lists = len_list_1-len_of_list_2\n",
    "    list_3.append(diff_of_lists)\n",
    "    \n",
    "list_3"
   ]
  },
  {
   "cell_type": "markdown",
   "metadata": {},
   "source": [
    "5. Calculate the average of the experiments"
   ]
  },
  {
   "cell_type": "code",
   "execution_count": 63,
   "metadata": {},
   "outputs": [
    {
     "data": {
      "text/plain": [
       "99.8"
      ]
     },
     "execution_count": 63,
     "metadata": {},
     "output_type": "execute_result"
    }
   ],
   "source": [
    "ave_of_exp = sum(list_3)/ float(len(list_3))\n",
    "ave_of_exp"
   ]
  },
  {
   "cell_type": "markdown",
   "metadata": {},
   "source": [
    "3.2 Activity 1.02\n"
   ]
  },
  {
   "cell_type": "markdown",
   "metadata": {},
   "source": [
    "1. First I will copy text from the book Pride and Prejudice "
   ]
  },
  {
   "cell_type": "code",
   "execution_count": 64,
   "metadata": {},
   "outputs": [],
   "source": [
    "# This is the text that will be analyzed\n",
    "\n",
    "text = \"\"\"IT is a truth universally acknowledged, that a single man in possession of\n",
    "\n",
    "a good fortune must be in want of a wife.\n",
    "\n",
    "However little known the feelings or views of such a man may be on his first entering a neighbourhood, \n",
    "\n",
    "this truth is so well fixed in the minds of the surrounding families, that he is considered as the \n",
    "\n",
    "rightful property of some one or other of their daughters.\n",
    "\n",
    "“My dear Mr. Bennet,” said his lady to him one day, “have you heard that Netherfield Park \n",
    "\n",
    "is let at last?” Mr. Bennet replied that he had not.\n",
    "\n",
    "“But it is,” returned she; “for Mrs. Long has just been here, and she told me all about it.”\n",
    "\n",
    "Mr. Bennet made no answer.\n",
    "\n",
    "“Do not you want to know who has taken it?” cried his wife, impatiently.\n",
    "\n",
    "“You want to tell me, and I have no objection to hearing it.”This was invitation enough.\n",
    "\n",
    "“Why, my dear, you must know, Mrs. Long says that Netherfield is taken by a young man of \n",
    "\n",
    "large fortune from the north of England; that he came down on Monday in a chaise and four \n",
    "\n",
    "to see the place, and was so much delighted with it that he agreed with Mr. Morris immediately; \n",
    "\n",
    "that he is to take possession before Michaelmas, and some of his servants are to be in the house \n",
    "\n",
    "by the end of next week.”\n",
    "\n",
    "“What is his name?\"\"\"\n",
    "\n"
   ]
  },
  {
   "cell_type": "code",
   "execution_count": 65,
   "metadata": {},
   "outputs": [
    {
     "data": {
      "text/plain": [
       "str"
      ]
     },
     "execution_count": 65,
     "metadata": {},
     "output_type": "execute_result"
    }
   ],
   "source": [
    "# This code identifies they type of data\n",
    "type(text)"
   ]
  },
  {
   "cell_type": "code",
   "execution_count": 66,
   "metadata": {},
   "outputs": [
    {
     "data": {
      "text/plain": [
       "1242"
      ]
     },
     "execution_count": 66,
     "metadata": {},
     "output_type": "execute_result"
    }
   ],
   "source": [
    "# This code produces the word count for the text\n",
    "len(text)"
   ]
  },
  {
   "cell_type": "code",
   "execution_count": 67,
   "metadata": {},
   "outputs": [
    {
     "data": {
      "text/plain": [
       "'IT is a truth universally acknowledged, that a single man in possession ofa good fortune must be in want of a wife.However little known the feelings or views of such a man may be on his first entering a neighbourhood, this truth is so well fixed in the minds of the surrounding families, that he is considered as the rightful property of some one or other of their daughters.“My dear Mr. Bennet,” said his lady to him one day, “have you heard that Netherfield Park is let at last?” Mr. Bennet replied that he had not.“But it is,” returned she; “for Mrs. Long has just been here, and she told me all about it.”Mr. Bennet made no answer.“Do not you want to know who has taken it?” cried his wife, impatiently.“You want to tell me, and I have no objection to hearing it.”This was invitation enough.“Why, my dear, you must know, Mrs. Long says that Netherfield is taken by a young man of large fortune from the north of England; that he came down on Monday in a chaise and four to see the place, and was so much delighted with it that he agreed with Mr. Morris immediately; that he is to take possession before Michaelmas, and some of his servants are to be in the house by the end of next week.”“What is his name?'"
      ]
     },
     "execution_count": 67,
     "metadata": {},
     "output_type": "execute_result"
    }
   ],
   "source": [
    "# This code removes the line spacing\n",
    "text = text.replace('\\n', \"\")\n",
    "text"
   ]
  },
  {
   "cell_type": "code",
   "execution_count": 68,
   "metadata": {},
   "outputs": [],
   "source": [
    "# This code will strip everything but the words from the text\n",
    "cleaned_text = \"\"\n",
    "for chr in text:\n",
    "    if chr == \" \":\n",
    "        cleaned_text += chr\n",
    "    elif chr.isalnum():\n",
    "        cleaned_text +=chr\n",
    "    else:\n",
    "        cleaned_text += \" \"\n",
    "    "
   ]
  },
  {
   "cell_type": "code",
   "execution_count": 69,
   "metadata": {},
   "outputs": [
    {
     "data": {
      "text/plain": [
       "'IT is a truth universally acknowledged  that a single man in possession ofa good fortune must be in want of a wife However little known the feelings or views of such a man may be on his first entering a neighbourhood  this truth is so well fixed in the minds of the surrounding families  that he is considered as the rightful property of some one or other of their daughters  My dear Mr  Bennet   said his lady to him one day   have you heard that Netherfield Park is let at last   Mr  Bennet replied that he had not  But it is   returned she   for Mrs  Long has just been here  and she told me all about it  Mr  Bennet made no answer  Do not you want to know who has taken it   cried his wife  impatiently  You want to tell me  and I have no objection to hearing it  This was invitation enough  Why  my dear  you must know  Mrs  Long says that Netherfield is taken by a young man of large fortune from the north of England  that he came down on Monday in a chaise and four to see the place  and was so much delighted with it that he agreed with Mr  Morris immediately  that he is to take possession before Michaelmas  and some of his servants are to be in the house by the end of next week   What is his name '"
      ]
     },
     "execution_count": 69,
     "metadata": {},
     "output_type": "execute_result"
    }
   ],
   "source": [
    "# This code will display the cleaned text\n",
    "cleaned_text"
   ]
  },
  {
   "cell_type": "code",
   "execution_count": 70,
   "metadata": {},
   "outputs": [
    {
     "data": {
      "text/plain": [
       "['IT',\n",
       " 'is',\n",
       " 'a',\n",
       " 'truth',\n",
       " 'universally',\n",
       " 'acknowledged',\n",
       " 'that',\n",
       " 'a',\n",
       " 'single',\n",
       " 'man',\n",
       " 'in',\n",
       " 'possession',\n",
       " 'ofa',\n",
       " 'good',\n",
       " 'fortune',\n",
       " 'must',\n",
       " 'be',\n",
       " 'in',\n",
       " 'want',\n",
       " 'of',\n",
       " 'a',\n",
       " 'wife',\n",
       " 'However',\n",
       " 'little',\n",
       " 'known',\n",
       " 'the',\n",
       " 'feelings',\n",
       " 'or',\n",
       " 'views',\n",
       " 'of',\n",
       " 'such',\n",
       " 'a',\n",
       " 'man',\n",
       " 'may',\n",
       " 'be',\n",
       " 'on',\n",
       " 'his',\n",
       " 'first',\n",
       " 'entering',\n",
       " 'a',\n",
       " 'neighbourhood',\n",
       " 'this',\n",
       " 'truth',\n",
       " 'is',\n",
       " 'so',\n",
       " 'well',\n",
       " 'fixed',\n",
       " 'in',\n",
       " 'the',\n",
       " 'minds',\n",
       " 'of',\n",
       " 'the',\n",
       " 'surrounding',\n",
       " 'families',\n",
       " 'that',\n",
       " 'he',\n",
       " 'is',\n",
       " 'considered',\n",
       " 'as',\n",
       " 'the',\n",
       " 'rightful',\n",
       " 'property',\n",
       " 'of',\n",
       " 'some',\n",
       " 'one',\n",
       " 'or',\n",
       " 'other',\n",
       " 'of',\n",
       " 'their',\n",
       " 'daughters',\n",
       " 'My',\n",
       " 'dear',\n",
       " 'Mr',\n",
       " 'Bennet',\n",
       " 'said',\n",
       " 'his',\n",
       " 'lady',\n",
       " 'to',\n",
       " 'him',\n",
       " 'one',\n",
       " 'day',\n",
       " 'have',\n",
       " 'you',\n",
       " 'heard',\n",
       " 'that',\n",
       " 'Netherfield',\n",
       " 'Park',\n",
       " 'is',\n",
       " 'let',\n",
       " 'at',\n",
       " 'last',\n",
       " 'Mr',\n",
       " 'Bennet',\n",
       " 'replied',\n",
       " 'that',\n",
       " 'he',\n",
       " 'had',\n",
       " 'not',\n",
       " 'But',\n",
       " 'it',\n",
       " 'is',\n",
       " 'returned',\n",
       " 'she',\n",
       " 'for',\n",
       " 'Mrs',\n",
       " 'Long',\n",
       " 'has',\n",
       " 'just',\n",
       " 'been',\n",
       " 'here',\n",
       " 'and',\n",
       " 'she',\n",
       " 'told',\n",
       " 'me',\n",
       " 'all',\n",
       " 'about',\n",
       " 'it',\n",
       " 'Mr',\n",
       " 'Bennet',\n",
       " 'made',\n",
       " 'no',\n",
       " 'answer',\n",
       " 'Do',\n",
       " 'not',\n",
       " 'you',\n",
       " 'want',\n",
       " 'to',\n",
       " 'know',\n",
       " 'who',\n",
       " 'has',\n",
       " 'taken',\n",
       " 'it',\n",
       " 'cried',\n",
       " 'his',\n",
       " 'wife',\n",
       " 'impatiently',\n",
       " 'You',\n",
       " 'want',\n",
       " 'to',\n",
       " 'tell',\n",
       " 'me',\n",
       " 'and',\n",
       " 'I',\n",
       " 'have',\n",
       " 'no',\n",
       " 'objection',\n",
       " 'to',\n",
       " 'hearing',\n",
       " 'it',\n",
       " 'This',\n",
       " 'was',\n",
       " 'invitation',\n",
       " 'enough',\n",
       " 'Why',\n",
       " 'my',\n",
       " 'dear',\n",
       " 'you',\n",
       " 'must',\n",
       " 'know',\n",
       " 'Mrs',\n",
       " 'Long',\n",
       " 'says',\n",
       " 'that',\n",
       " 'Netherfield',\n",
       " 'is',\n",
       " 'taken',\n",
       " 'by',\n",
       " 'a',\n",
       " 'young',\n",
       " 'man',\n",
       " 'of',\n",
       " 'large',\n",
       " 'fortune',\n",
       " 'from',\n",
       " 'the',\n",
       " 'north',\n",
       " 'of',\n",
       " 'England',\n",
       " 'that',\n",
       " 'he',\n",
       " 'came',\n",
       " 'down',\n",
       " 'on',\n",
       " 'Monday',\n",
       " 'in',\n",
       " 'a',\n",
       " 'chaise',\n",
       " 'and',\n",
       " 'four',\n",
       " 'to',\n",
       " 'see',\n",
       " 'the',\n",
       " 'place',\n",
       " 'and',\n",
       " 'was',\n",
       " 'so',\n",
       " 'much',\n",
       " 'delighted',\n",
       " 'with',\n",
       " 'it',\n",
       " 'that',\n",
       " 'he',\n",
       " 'agreed',\n",
       " 'with',\n",
       " 'Mr',\n",
       " 'Morris',\n",
       " 'immediately',\n",
       " 'that',\n",
       " 'he',\n",
       " 'is',\n",
       " 'to',\n",
       " 'take',\n",
       " 'possession',\n",
       " 'before',\n",
       " 'Michaelmas',\n",
       " 'and',\n",
       " 'some',\n",
       " 'of',\n",
       " 'his',\n",
       " 'servants',\n",
       " 'are',\n",
       " 'to',\n",
       " 'be',\n",
       " 'in',\n",
       " 'the',\n",
       " 'house',\n",
       " 'by',\n",
       " 'the',\n",
       " 'end',\n",
       " 'of',\n",
       " 'next',\n",
       " 'week',\n",
       " 'What',\n",
       " 'is',\n",
       " 'his',\n",
       " 'name']"
      ]
     },
     "execution_count": 70,
     "metadata": {},
     "output_type": "execute_result"
    }
   ],
   "source": [
    "# This code will create a list of words\n",
    "words_list = cleaned_text.split()\n",
    "words_list"
   ]
  },
  {
   "cell_type": "markdown",
   "metadata": {},
   "source": [
    "3.3 Activity 2.01"
   ]
  },
  {
   "cell_type": "code",
   "execution_count": 1,
   "metadata": {},
   "outputs": [],
   "source": [
    "# this code installs the libraries \n",
    "from itertools import permutations, dropwhile"
   ]
  },
  {
   "cell_type": "code",
   "execution_count": 2,
   "metadata": {},
   "outputs": [
    {
     "name": "stdout",
     "output_type": "stream",
     "text": [
      "\u001b[1;31mInit signature:\u001b[0m \u001b[0mpermutations\u001b[0m\u001b[1;33m(\u001b[0m\u001b[0miterable\u001b[0m\u001b[1;33m,\u001b[0m \u001b[0mr\u001b[0m\u001b[1;33m=\u001b[0m\u001b[1;32mNone\u001b[0m\u001b[1;33m)\u001b[0m\u001b[1;33m\u001b[0m\u001b[1;33m\u001b[0m\u001b[0m\n",
      "\u001b[1;31mDocstring:\u001b[0m     \n",
      "Return successive r-length permutations of elements in the iterable.\n",
      "\n",
      "permutations(range(3), 2) --> (0,1), (0,2), (1,0), (1,2), (2,0), (2,1)\n",
      "\u001b[1;31mType:\u001b[0m           type\n",
      "\u001b[1;31mSubclasses:\u001b[0m     "
     ]
    }
   ],
   "source": [
    "# This code defines permutations\n",
    "permutations?"
   ]
  },
  {
   "cell_type": "code",
   "execution_count": 3,
   "metadata": {},
   "outputs": [
    {
     "name": "stdout",
     "output_type": "stream",
     "text": [
      "\u001b[1;31mInit signature:\u001b[0m \u001b[0mdropwhile\u001b[0m\u001b[1;33m(\u001b[0m\u001b[0mpredicate\u001b[0m\u001b[1;33m,\u001b[0m \u001b[0miterable\u001b[0m\u001b[1;33m,\u001b[0m \u001b[1;33m/\u001b[0m\u001b[1;33m)\u001b[0m\u001b[1;33m\u001b[0m\u001b[1;33m\u001b[0m\u001b[0m\n",
      "\u001b[1;31mDocstring:\u001b[0m     \n",
      "Drop items from the iterable while predicate(item) is true.\n",
      "\n",
      "Afterwards, return every element until the iterable is exhausted.\n",
      "\u001b[1;31mType:\u001b[0m           type\n",
      "\u001b[1;31mSubclasses:\u001b[0m     "
     ]
    }
   ],
   "source": [
    "# This code defines dropwhile\n",
    "dropwhile?"
   ]
  },
  {
   "cell_type": "code",
   "execution_count": 4,
   "metadata": {},
   "outputs": [
    {
     "data": {
      "text/plain": [
       "<itertools.permutations at 0x1f825aaee30>"
      ]
     },
     "execution_count": 4,
     "metadata": {},
     "output_type": "execute_result"
    }
   ],
   "source": [
    "permutations(range(3))"
   ]
  },
  {
   "cell_type": "code",
   "execution_count": 5,
   "metadata": {},
   "outputs": [
    {
     "name": "stdout",
     "output_type": "stream",
     "text": [
      "(0, 1, 2)\n",
      "(0, 2, 1)\n",
      "(1, 0, 2)\n",
      "(1, 2, 0)\n",
      "(2, 0, 1)\n",
      "(2, 1, 0)\n"
     ]
    }
   ],
   "source": [
    "# This code creates a loop to produce all possible iterations of the permutation\n",
    "for number_tup in permutations(range(3)):\n",
    "    print(number_tup)\n",
    "    assert isinstance(number_tup, tuple)"
   ]
  },
  {
   "cell_type": "code",
   "execution_count": 6,
   "metadata": {},
   "outputs": [
    {
     "name": "stdout",
     "output_type": "stream",
     "text": [
      "[1, 2]\n",
      "[2, 1]\n",
      "[1, 0, 2]\n",
      "[1, 2, 0]\n",
      "[2, 0, 1]\n",
      "[2, 1, 0]\n"
     ]
    }
   ],
   "source": [
    "# This code uses the dropwhile function to remove leading zeros\n",
    "for number_tup in permutations(range(3)):\n",
    "    print(list(dropwhile(lambda x: x<=0, number_tup)))"
   ]
  },
  {
   "cell_type": "code",
   "execution_count": 10,
   "metadata": {},
   "outputs": [
    {
     "name": "stdout",
     "output_type": "stream",
     "text": [
      "210.0\n",
      "210.0\n",
      "210.0\n",
      "210.0\n",
      "210.0\n",
      "210.0\n"
     ]
    }
   ],
   "source": [
    "# This code takes the result from the previous code and generates a whole number contained in the list\n",
    "def convert_to_num(number_stack):\n",
    "    final_num = 0\n",
    "    for i in range(0, len(number_stack)):\n",
    "        final_num += (number_stack.pop() * (math.pow(10, i)))\n",
    "    return final_num\n",
    "\n",
    "for num_tup in permutations(range(3)):\n",
    "    number_stack = list(dropwhile(lambda x: x <= 0, number_tup))\n",
    "    print(convert_to_num(number_stack))\n",
    "    "
   ]
  },
  {
   "cell_type": "markdown",
   "metadata": {},
   "source": [
    "3.4 Activity 2.02"
   ]
  },
  {
   "cell_type": "code",
   "execution_count": 11,
   "metadata": {},
   "outputs": [],
   "source": [
    "from itertools import zip_longest"
   ]
  },
  {
   "cell_type": "code",
   "execution_count": 12,
   "metadata": {},
   "outputs": [],
   "source": [
    "def return_dict_from_csv_line(header, line):\n",
    "    zipped_line = zip_longest(header, line, fillvalue=None)\n",
    "    ret_dict = {kv[0]: kv[1] for kv in zipped_line}\n",
    "    return ret_dict"
   ]
  },
  {
   "cell_type": "code",
   "execution_count": 13,
   "metadata": {},
   "outputs": [
    {
     "name": "stdout",
     "output_type": "stream",
     "text": [
      "{'Region': 'Central America and the Caribbean', 'Country': 'Antigua and Barbuda ', 'Item Type': 'Baby Food', 'Sales Channel': 'Online', 'Order Priority': 'M', 'Order Date': '12/20/2013', 'Order ID': '957081544', 'Ship Date': '1/11/2014', 'Units Sold': '552', 'Unit Price': '255.28', 'Unit Cost': '159.42', 'Total Revenue': '140914.56', 'Total Cost': '87999.84', 'Total Profit': '52914.72'}\n",
      "{'Region': 'Central America and the Caribbean', 'Country': 'Panama', 'Item Type': 'Snacks', 'Sales Channel': 'Offline', 'Order Priority': 'C', 'Order Date': '7/5/2010', 'Order ID': '301644504', 'Ship Date': '7/26/2010', 'Units Sold': '2167', 'Unit Price': '152.58', 'Unit Cost': '97.44', 'Total Revenue': '330640.86', 'Total Cost': '211152.48', 'Total Profit': '119488.38'}\n",
      "{'Region': 'Europe', 'Country': 'Czech Republic', 'Item Type': 'Beverages', 'Sales Channel': 'Offline', 'Order Priority': 'C', 'Order Date': '9/12/2011', 'Order ID': '478051030', 'Ship Date': '9/29/2011', 'Units Sold': '4778', 'Unit Price': '47.45', 'Unit Cost': '31.79', 'Total Revenue': '226716.10', 'Total Cost': '151892.62', 'Total Profit': '74823.48'}\n",
      "{'Region': 'Asia', 'Country': 'North Korea', 'Item Type': 'Cereal', 'Sales Channel': 'Offline', 'Order Priority': 'L', 'Order Date': '5/13/2010', 'Order ID': '892599952', 'Ship Date': '6/15/2010', 'Units Sold': '9016', 'Unit Price': '205.70', 'Unit Cost': '117.11', 'Total Revenue': '1854591.20', 'Total Cost': '1055863.76', 'Total Profit': '798727.44'}\n",
      "{'Region': 'Asia', 'Country': 'Sri Lanka', 'Item Type': 'Snacks', 'Sales Channel': 'Offline', 'Order Priority': 'C', 'Order Date': '7/20/2015', 'Order ID': '571902596', 'Ship Date': '7/27/2015', 'Units Sold': '7542', 'Unit Price': '152.58', 'Unit Cost': '97.44', 'Total Revenue': '1150758.36', 'Total Cost': '734892.48', 'Total Profit': '415865.88'}\n",
      "{'Region': 'Middle East and North Africa', 'Country': 'Morocco', 'Item Type': 'Personal Care', 'Sales Channel': 'Offline', 'Order Priority': 'L', 'Order Date': '11/8/2010', 'Order ID': '412882792', 'Ship Date': '11/22/2010', 'Units Sold': '48', 'Unit Price': '81.73', 'Unit Cost': '56.67', 'Total Revenue': '3923.04', 'Total Cost': '2720.16', 'Total Profit': '1202.88'}\n",
      "{'Region': 'Australia and Oceania', 'Country': 'Federated States of Micronesia', 'Item Type': 'Clothes', 'Sales Channel': 'Offline', 'Order Priority': 'H', 'Order Date': '3/28/2011', 'Order ID': '932776868', 'Ship Date': '5/10/2011', 'Units Sold': '8258', 'Unit Price': '109.28', 'Unit Cost': '35.84', 'Total Revenue': '902434.24', 'Total Cost': '295966.72', 'Total Profit': '606467.52'}\n",
      "{'Region': 'Europe', 'Country': 'Bosnia and Herzegovina', 'Item Type': 'Clothes', 'Sales Channel': 'Online', 'Order Priority': 'M', 'Order Date': '10/14/2013', 'Order ID': '919133651', 'Ship Date': '11/4/2013', 'Units Sold': '927', 'Unit Price': '109.28', 'Unit Cost': '35.84', 'Total Revenue': '101302.56', 'Total Cost': '33223.68', 'Total Profit': '68078.88'}\n",
      "{'Region': 'Middle East and North Africa', 'Country': 'Afghanistan', 'Item Type': 'Clothes', 'Sales Channel': 'Offline', 'Order Priority': 'M', 'Order Date': '8/27/2016', 'Order ID': '579814469', 'Ship Date': '10/5/2016', 'Units Sold': '8841', 'Unit Price': '109.28', 'Unit Cost': '35.84', 'Total Revenue': '966144.48', 'Total Cost': '316861.44', 'Total Profit': '649283.04'}\n",
      "{'Region': 'Sub-Saharan Africa', 'Country': 'Ethiopia', 'Item Type': 'Baby Food', 'Sales Channel': 'Online', 'Order Priority': 'M', 'Order Date': '4/13/2015', 'Order ID': '192993152', 'Ship Date': '5/7/2015', 'Units Sold': '9817', 'Unit Price': '255.28', 'Unit Cost': '159.42', 'Total Revenue': '2506083.76', 'Total Cost': '1565026.14', 'Total Profit': '941057.62'}\n",
      "{'Region': 'Middle East and North Africa', 'Country': 'Turkey', 'Item Type': 'Office Supplies', 'Sales Channel': 'Offline', 'Order Priority': 'C', 'Order Date': '9/25/2013', 'Order ID': '557156026', 'Ship Date': '10/15/2013', 'Units Sold': '3704', 'Unit Price': '651.21', 'Unit Cost': '524.96', 'Total Revenue': '2412081.84', 'Total Cost': '1944451.84', 'Total Profit': '467630.00'}\n",
      "{'Region': 'Middle East and North Africa', 'Country': 'Oman', 'Item Type': 'Cosmetics', 'Sales Channel': 'Online', 'Order Priority': 'M', 'Order Date': '5/12/2013', 'Order ID': '741101920', 'Ship Date': '5/17/2013', 'Units Sold': '7382', 'Unit Price': '437.20', 'Unit Cost': '263.33', 'Total Revenue': '3227410.40', 'Total Cost': '1943902.06', 'Total Profit': '1283508.34'}\n"
     ]
    }
   ],
   "source": [
    "# This code imports the CSV file and converts the data line by line in to a dictionary.\n",
    "with open(r\"C:\\Users\\mchlp\\OneDrive\\Documents\\Data Preperation\\The-Data-Wrangling-Workshop\\Chapter02\\datasets\\sales_record.csv\") as fd:\n",
    "    first_line = fd.readline()\n",
    "    header = first_line.replace(\"\\n\", \"\").split(\",\")\n",
    "    for i, line in enumerate(fd):\n",
    "        \n",
    "        line = line.replace(\"\\n\", \"\").split(\",\")\n",
    "        d = return_dict_from_csv_line(header, line)\n",
    "        print(d)\n",
    "        if i > 10:\n",
    "            break"
   ]
  },
  {
   "cell_type": "code",
   "execution_count": null,
   "metadata": {},
   "outputs": [],
   "source": []
  }
 ],
 "metadata": {
  "kernelspec": {
   "display_name": "data_prep",
   "language": "python",
   "name": "python3"
  },
  "language_info": {
   "codemirror_mode": {
    "name": "ipython",
    "version": 3
   },
   "file_extension": ".py",
   "mimetype": "text/x-python",
   "name": "python",
   "nbconvert_exporter": "python",
   "pygments_lexer": "ipython3",
   "version": "3.13.2"
  }
 },
 "nbformat": 4,
 "nbformat_minor": 2
}
